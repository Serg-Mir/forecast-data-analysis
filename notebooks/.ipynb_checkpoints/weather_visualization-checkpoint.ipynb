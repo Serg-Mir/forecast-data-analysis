{
 "cells": [
  {
   "cell_type": "code",
   "execution_count": null,
   "id": "initial_id",
   "metadata": {
    "collapsed": true
   },
   "outputs": [],
   "source": [
    ""
   ]
  },
  {
   "metadata": {},
   "cell_type": "code",
   "outputs": [],
   "execution_count": null,
   "source": [
    "# notebooks/weather_visualization.ipynb\n",
    "import os\n",
    "import pandas as pd\n",
    "import matplotlib.pyplot as plt\n",
    "import seaborn as sns\n",
    "from sqlalchemy import create_engine\n",
    "\n",
    "# Connect to the database\n",
    "DATABASE_URL = os.getenv(\"DATABASE_URL\")\n",
    "engine = create_engine(DATABASE_URL)\n",
    "\n",
    "# Load data from the database\n",
    "query = \"SELECT * FROM weather_data ORDER BY timestamp DESC LIMIT 1000\"\n",
    "df = pd.read_sql(query, engine)\n",
    "\n",
    "# Convert timestamp to datetime\n",
    "df['timestamp'] = pd.to_datetime(df['timestamp'])\n",
    "\n",
    "# Set up the plot style\n",
    "plt.style.use('seaborn')\n",
    "\n",
    "# 1. Time series plot for temperature and wind speed\n",
    "plt.figure(figsize=(15, 8))\n",
    "for (lat, lon), group in df.groupby(['latitude', 'longitude']):\n",
    "    plt.plot(group['timestamp'], group['temperature'], label=f'Temp ({lat}, {lon})')\n",
    "    plt.plot(group['timestamp'], group['wind_speed'], label=f'Wind ({lat}, {lon})', linestyle='--')\n",
    "\n",
    "plt.title('Temperature and Wind Speed Over Time')\n",
    "plt.xlabel('Time')\n",
    "plt.ylabel('Temperature (°C) / Wind Speed (m/s)')\n",
    "plt.legend(bbox_to_anchor=(1.05, 1), loc='upper left')\n",
    "plt.tight_layout()\n",
    "plt.show()\n",
    "\n",
    "# 2. Scatter plot of temperature vs humidity with cloud cover\n",
    "plt.figure(figsize=(12, 8))\n",
    "scatter = plt.scatter(df['temperature'], df['humidity'], c=df['cloud_cover'], \n",
    "                      s=df['wind_speed']*10, alpha=0.6, cmap='viridis')\n",
    "plt.colorbar(scatter, label='Cloud Cover (%)')\n",
    "plt.title('Temperature vs Humidity, with Cloud Cover and Wind Speed')\n",
    "plt.xlabel('Temperature (°C)')\n",
    "plt.ylabel('Humidity (%)')\n",
    "plt.tight_layout()\n",
    "plt.show()\n",
    "\n",
    "# 3. Box plot of temperature distribution by location\n",
    "plt.figure(figsize=(15, 8))\n",
    "sns.boxplot(x='latitude', y='temperature', data=df)\n",
    "plt.title('Temperature Distribution by Latitude')\n",
    "plt.xlabel('Latitude')\n",
    "plt.ylabel('Temperature (°C)')\n",
    "plt.xticks(rotation=45)\n",
    "plt.tight_layout()\n",
    "plt.show()\n",
    "\n",
    "# 4. Heatmap of correlations between weather variables\n",
    "corr = df[['temperature', 'wind_speed', 'precipitation', 'humidity', 'cloud_cover']].corr()\n",
    "plt.figure(figsize=(10, 8))\n",
    "sns.heatmap(corr, annot=True, cmap='coolwarm', vmin=-1, vmax=1, center=0)\n",
    "plt.title('Correlation Heatmap of Weather Variables')\n",
    "plt.tight_layout()\n",
    "plt.show()"
   ],
   "id": "941c99d930e7ceb5"
  }
 ],
 "metadata": {
  "kernelspec": {
   "display_name": "Python 3",
   "language": "python",
   "name": "python3"
  },
  "language_info": {
   "codemirror_mode": {
    "name": "ipython",
    "version": 2
   },
   "file_extension": ".py",
   "mimetype": "text/x-python",
   "name": "python",
   "nbconvert_exporter": "python",
   "pygments_lexer": "ipython2",
   "version": "2.7.6"
  }
 },
 "nbformat": 4,
 "nbformat_minor": 5
}
